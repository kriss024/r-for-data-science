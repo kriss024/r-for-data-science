{
 "cells": [
  {
   "cell_type": "code",
   "execution_count": 1,
   "id": "8f5b7a3a-1316-42c9-935e-161ab4783734",
   "metadata": {},
   "outputs": [],
   "source": [
    "rm(list=ls())\n",
    "suppressWarnings(suppressMessages(library(sparklyr)))\n",
    "suppressWarnings(suppressMessages(library(dplyr)))\n",
    "library(sparklyr)\n",
    "library(dplyr)\n",
    "library(ggplot2)"
   ]
  },
  {
   "cell_type": "raw",
   "id": "cf3c1d93-ce2e-435b-b7d9-a3da7cf991eb",
   "metadata": {},
   "source": [
    "# Basic math operators\n",
    "+, -, *, /, %%, ^\n",
    "  \n",
    "# Math functions\n",
    "abs, acos, asin, asinh, atan, atan2, ceiling, cos, cosh, exp, floor, log, \n",
    "log10, round, sign, sin, sinh, sqrt, tan, tanh\n",
    "\n",
    "# Logical comparisons\n",
    "<, <=, !=, >=, >, ==, %in%\n",
    "\n",
    "# Boolean operations\n",
    "&, &&, |, ||, !\n",
    "\n",
    "# Character functions\n",
    "paste, tolower, toupper, nchar\n",
    "\n",
    "# Casting\n",
    "as.double, as.integer, as.logical, as.character, as.date\n",
    "\n",
    "# Basic aggregations\n",
    "mean, sum, min, max, sd, var, cor, cov, n"
   ]
  },
  {
   "cell_type": "code",
   "execution_count": 2,
   "id": "34596fae-1fc9-475d-8489-77c1be09728d",
   "metadata": {},
   "outputs": [],
   "source": [
    "sc <- spark_connect(master = \"local\")"
   ]
  },
  {
   "cell_type": "code",
   "execution_count": 3,
   "id": "afc40d4b-59b2-4609-ab3d-3c833da10c85",
   "metadata": {},
   "outputs": [],
   "source": [
    "adult_train_spark <- spark_read_csv(sc, 'adult_train.csv', name = 'adult_train', header = TRUE, delimiter = ',', null_value = '?')"
   ]
  },
  {
   "cell_type": "code",
   "execution_count": 4,
   "id": "172ed7e0-95d3-4dae-85e6-bbbe30ee1b60",
   "metadata": {},
   "outputs": [
    {
     "data": {
      "text/plain": [
       "\u001b[90m# Source: spark<?> [?? x 15]\u001b[39m\n",
       "    age workclass    fnlwgt education education_num marital_status  occupation  \n",
       "  \u001b[3m\u001b[90m<int>\u001b[39m\u001b[23m \u001b[3m\u001b[90m<chr>\u001b[39m\u001b[23m         \u001b[3m\u001b[90m<int>\u001b[39m\u001b[23m \u001b[3m\u001b[90m<chr>\u001b[39m\u001b[23m             \u001b[3m\u001b[90m<int>\u001b[39m\u001b[23m \u001b[3m\u001b[90m<chr>\u001b[39m\u001b[23m           \u001b[3m\u001b[90m<chr>\u001b[39m\u001b[23m       \n",
       "\u001b[90m1\u001b[39m    39 State-gov     \u001b[4m7\u001b[24m\u001b[4m7\u001b[24m516 Bachelors            13 Never-married   Adm-clerical\n",
       "\u001b[90m2\u001b[39m    50 Self-emp-no…  \u001b[4m8\u001b[24m\u001b[4m3\u001b[24m311 Bachelors            13 Married-civ-sp… Exec-manage…\n",
       "\u001b[90m3\u001b[39m    38 Private      \u001b[4m2\u001b[24m\u001b[4m1\u001b[24m\u001b[4m5\u001b[24m646 HS-grad               9 Divorced        Handlers-cl…\n",
       "\u001b[90m4\u001b[39m    53 Private      \u001b[4m2\u001b[24m\u001b[4m3\u001b[24m\u001b[4m4\u001b[24m721 11th                  7 Married-civ-sp… Handlers-cl…\n",
       "\u001b[90m5\u001b[39m    28 Private      \u001b[4m3\u001b[24m\u001b[4m3\u001b[24m\u001b[4m8\u001b[24m409 Bachelors            13 Married-civ-sp… Prof-specia…\n",
       "\u001b[90m6\u001b[39m    37 Private      \u001b[4m2\u001b[24m\u001b[4m8\u001b[24m\u001b[4m4\u001b[24m582 Masters              14 Married-civ-sp… Exec-manage…\n",
       "\u001b[90m# … with 8 more variables: relationship <chr>, race <chr>, sex <chr>,\u001b[39m\n",
       "\u001b[90m#   capital_gain <int>, capital_loss <int>, hours_per_week <int>,\u001b[39m\n",
       "\u001b[90m#   native_country <chr>, income_class <chr>\u001b[39m"
      ]
     },
     "metadata": {},
     "output_type": "display_data"
    }
   ],
   "source": [
    "head(adult_train_spark)"
   ]
  },
  {
   "cell_type": "code",
   "execution_count": 5,
   "id": "4f98b240-2f5e-419c-ae69-02e54aca5813",
   "metadata": {},
   "outputs": [
    {
     "data": {
      "text/html": [
       "<style>\n",
       ".list-inline {list-style: none; margin:0; padding: 0}\n",
       ".list-inline>li {display: inline-block}\n",
       ".list-inline>li:not(:last-child)::after {content: \"\\00b7\"; padding: 0 .5ex}\n",
       "</style>\n",
       "<ol class=list-inline><li>&lt;NA&gt;</li><li>15</li></ol>\n"
      ],
      "text/latex": [
       "\\begin{enumerate*}\n",
       "\\item <NA>\n",
       "\\item 15\n",
       "\\end{enumerate*}\n"
      ],
      "text/markdown": [
       "1. &lt;NA&gt;\n",
       "2. 15\n",
       "\n",
       "\n"
      ],
      "text/plain": [
       "[1] NA 15"
      ]
     },
     "metadata": {},
     "output_type": "display_data"
    }
   ],
   "source": [
    "dim(adult_train_spark)"
   ]
  },
  {
   "cell_type": "code",
   "execution_count": 6,
   "id": "d33f1e87-6055-4af7-af1c-73947ddebc0e",
   "metadata": {},
   "outputs": [
    {
     "data": {
      "text/plain": [
       "\u001b[90m# Source: spark<?> [?? x 1]\u001b[39m\n",
       "      n\n",
       "  \u001b[3m\u001b[90m<dbl>\u001b[39m\u001b[23m\n",
       "\u001b[90m1\u001b[39m \u001b[4m3\u001b[24m\u001b[4m2\u001b[24m561"
      ]
     },
     "metadata": {},
     "output_type": "display_data"
    }
   ],
   "source": [
    "adult_train_spark %>% count()"
   ]
  },
  {
   "cell_type": "code",
   "execution_count": 7,
   "id": "2d71aba9-11ce-46c3-92a6-991153d30f51",
   "metadata": {},
   "outputs": [
    {
     "data": {
      "text/plain": [
       "\u001b[90m# Source: spark<?> [?? x 2]\u001b[39m\n",
       "  income_class     n\n",
       "  \u001b[3m\u001b[90m<chr>\u001b[39m\u001b[23m        \u001b[3m\u001b[90m<dbl>\u001b[39m\u001b[23m\n",
       "\u001b[90m1\u001b[39m <=50K        \u001b[4m2\u001b[24m\u001b[4m4\u001b[24m720\n",
       "\u001b[90m2\u001b[39m >50K          \u001b[4m7\u001b[24m841"
      ]
     },
     "metadata": {},
     "output_type": "display_data"
    }
   ],
   "source": [
    "adult_train_spark %>% \n",
    "select(income_class) %>% \n",
    "count(income_class)"
   ]
  },
  {
   "cell_type": "code",
   "execution_count": 8,
   "id": "efc31cf9-ff7b-4d24-98d8-b7499e8c0c3a",
   "metadata": {},
   "outputs": [
    {
     "data": {
      "text/html": [
       "<table class=\"dataframe\">\n",
       "<caption>A data.frame: 6 × 5</caption>\n",
       "<thead>\n",
       "\t<tr><th></th><th scope=col>Sepal.Length</th><th scope=col>Sepal.Width</th><th scope=col>Petal.Length</th><th scope=col>Petal.Width</th><th scope=col>Species</th></tr>\n",
       "\t<tr><th></th><th scope=col>&lt;dbl&gt;</th><th scope=col>&lt;dbl&gt;</th><th scope=col>&lt;dbl&gt;</th><th scope=col>&lt;dbl&gt;</th><th scope=col>&lt;fct&gt;</th></tr>\n",
       "</thead>\n",
       "<tbody>\n",
       "\t<tr><th scope=row>1</th><td>5.1</td><td>3.5</td><td>1.4</td><td>0.2</td><td>setosa</td></tr>\n",
       "\t<tr><th scope=row>2</th><td>4.9</td><td>3.0</td><td>1.4</td><td>0.2</td><td>setosa</td></tr>\n",
       "\t<tr><th scope=row>3</th><td>4.7</td><td>3.2</td><td>1.3</td><td>0.2</td><td>setosa</td></tr>\n",
       "\t<tr><th scope=row>4</th><td>4.6</td><td>3.1</td><td>1.5</td><td>0.2</td><td>setosa</td></tr>\n",
       "\t<tr><th scope=row>5</th><td>5.0</td><td>3.6</td><td>1.4</td><td>0.2</td><td>setosa</td></tr>\n",
       "\t<tr><th scope=row>6</th><td>5.4</td><td>3.9</td><td>1.7</td><td>0.4</td><td>setosa</td></tr>\n",
       "</tbody>\n",
       "</table>\n"
      ],
      "text/latex": [
       "A data.frame: 6 × 5\n",
       "\\begin{tabular}{r|lllll}\n",
       "  & Sepal.Length & Sepal.Width & Petal.Length & Petal.Width & Species\\\\\n",
       "  & <dbl> & <dbl> & <dbl> & <dbl> & <fct>\\\\\n",
       "\\hline\n",
       "\t1 & 5.1 & 3.5 & 1.4 & 0.2 & setosa\\\\\n",
       "\t2 & 4.9 & 3.0 & 1.4 & 0.2 & setosa\\\\\n",
       "\t3 & 4.7 & 3.2 & 1.3 & 0.2 & setosa\\\\\n",
       "\t4 & 4.6 & 3.1 & 1.5 & 0.2 & setosa\\\\\n",
       "\t5 & 5.0 & 3.6 & 1.4 & 0.2 & setosa\\\\\n",
       "\t6 & 5.4 & 3.9 & 1.7 & 0.4 & setosa\\\\\n",
       "\\end{tabular}\n"
      ],
      "text/markdown": [
       "\n",
       "A data.frame: 6 × 5\n",
       "\n",
       "| <!--/--> | Sepal.Length &lt;dbl&gt; | Sepal.Width &lt;dbl&gt; | Petal.Length &lt;dbl&gt; | Petal.Width &lt;dbl&gt; | Species &lt;fct&gt; |\n",
       "|---|---|---|---|---|---|\n",
       "| 1 | 5.1 | 3.5 | 1.4 | 0.2 | setosa |\n",
       "| 2 | 4.9 | 3.0 | 1.4 | 0.2 | setosa |\n",
       "| 3 | 4.7 | 3.2 | 1.3 | 0.2 | setosa |\n",
       "| 4 | 4.6 | 3.1 | 1.5 | 0.2 | setosa |\n",
       "| 5 | 5.0 | 3.6 | 1.4 | 0.2 | setosa |\n",
       "| 6 | 5.4 | 3.9 | 1.7 | 0.4 | setosa |\n",
       "\n"
      ],
      "text/plain": [
       "  Sepal.Length Sepal.Width Petal.Length Petal.Width Species\n",
       "1 5.1          3.5         1.4          0.2         setosa \n",
       "2 4.9          3.0         1.4          0.2         setosa \n",
       "3 4.7          3.2         1.3          0.2         setosa \n",
       "4 4.6          3.1         1.5          0.2         setosa \n",
       "5 5.0          3.6         1.4          0.2         setosa \n",
       "6 5.4          3.9         1.7          0.4         setosa "
      ]
     },
     "metadata": {},
     "output_type": "display_data"
    }
   ],
   "source": [
    "head(iris)"
   ]
  },
  {
   "cell_type": "code",
   "execution_count": 9,
   "id": "9d7a6fcb-a33f-4aef-a293-3474c5e64639",
   "metadata": {},
   "outputs": [
    {
     "data": {
      "text/html": [
       "<style>\n",
       ".list-inline {list-style: none; margin:0; padding: 0}\n",
       ".list-inline>li {display: inline-block}\n",
       ".list-inline>li:not(:last-child)::after {content: \"\\00b7\"; padding: 0 .5ex}\n",
       "</style>\n",
       "<ol class=list-inline><li>'adult_train'</li><li>'iris'</li></ol>\n"
      ],
      "text/latex": [
       "\\begin{enumerate*}\n",
       "\\item 'adult\\_train'\n",
       "\\item 'iris'\n",
       "\\end{enumerate*}\n"
      ],
      "text/markdown": [
       "1. 'adult_train'\n",
       "2. 'iris'\n",
       "\n",
       "\n"
      ],
      "text/plain": [
       "[1] \"adult_train\" \"iris\"       "
      ]
     },
     "metadata": {},
     "output_type": "display_data"
    }
   ],
   "source": [
    "iris_spark <- copy_to(sc, iris, overwrite = TRUE)\n",
    "dplyr::src_tbls(sc)"
   ]
  },
  {
   "cell_type": "code",
   "execution_count": 10,
   "id": "fb79e7af-a74e-4248-a09f-acc24dc6d9d7",
   "metadata": {},
   "outputs": [
    {
     "data": {
      "text/plain": [
       "\u001b[90m# Source: spark<?> [?? x 5]\u001b[39m\n",
       "  Sepal_Length Sepal_Width Petal_Length Petal_Width Species\n",
       "         \u001b[3m\u001b[90m<dbl>\u001b[39m\u001b[23m       \u001b[3m\u001b[90m<dbl>\u001b[39m\u001b[23m        \u001b[3m\u001b[90m<dbl>\u001b[39m\u001b[23m       \u001b[3m\u001b[90m<dbl>\u001b[39m\u001b[23m \u001b[3m\u001b[90m<chr>\u001b[39m\u001b[23m  \n",
       "\u001b[90m1\u001b[39m          5.1         3.5          1.4         0.2 setosa \n",
       "\u001b[90m2\u001b[39m          4.9         3            1.4         0.2 setosa \n",
       "\u001b[90m3\u001b[39m          4.7         3.2          1.3         0.2 setosa \n",
       "\u001b[90m4\u001b[39m          4.6         3.1          1.5         0.2 setosa \n",
       "\u001b[90m5\u001b[39m          5           3.6          1.4         0.2 setosa \n",
       "\u001b[90m6\u001b[39m          5.4         3.9          1.7         0.4 setosa "
      ]
     },
     "metadata": {},
     "output_type": "display_data"
    }
   ],
   "source": [
    "head(iris_spark)"
   ]
  },
  {
   "cell_type": "code",
   "execution_count": 11,
   "id": "48db96ed-49d3-4036-a521-369d1bb2d2f6",
   "metadata": {},
   "outputs": [
    {
     "data": {
      "text/plain": [
       "\u001b[90m# Source: spark<?> [?? x 2]\u001b[39m\n",
       "  Species    result\n",
       "  \u001b[3m\u001b[90m<chr>\u001b[39m\u001b[23m       \u001b[3m\u001b[90m<int>\u001b[39m\u001b[23m\n",
       "\u001b[90m1\u001b[39m versicolor     50\n",
       "\u001b[90m2\u001b[39m virginica      50\n",
       "\u001b[90m3\u001b[39m setosa         50"
      ]
     },
     "metadata": {},
     "output_type": "display_data"
    }
   ],
   "source": [
    "spark_apply(iris_spark, nrow, group_by = \"Species\")"
   ]
  },
  {
   "cell_type": "code",
   "execution_count": 12,
   "id": "a8298bcc-6d48-4385-93ab-15f16ca1cd67",
   "metadata": {},
   "outputs": [
    {
     "data": {
      "text/plain": [
       "   user  system elapsed \n",
       "  0.087   0.005   3.711 "
      ]
     },
     "metadata": {},
     "output_type": "display_data"
    }
   ],
   "source": [
    "system.time(\n",
    "  spark_apply(iris_spark, nrow, group_by = \"Species\")\n",
    ")"
   ]
  },
  {
   "cell_type": "code",
   "execution_count": 13,
   "id": "c3ff77de-b6cd-494c-a5bc-f07d32b1f2b5",
   "metadata": {},
   "outputs": [
    {
     "data": {
      "text/html": [
       "<table class=\"dataframe\">\n",
       "<caption>A data.frame: 10 × 5</caption>\n",
       "<thead>\n",
       "\t<tr><th scope=col>Sepal_Length</th><th scope=col>Sepal_Width</th><th scope=col>Petal_Length</th><th scope=col>Petal_Width</th><th scope=col>Species</th></tr>\n",
       "\t<tr><th scope=col>&lt;dbl&gt;</th><th scope=col>&lt;dbl&gt;</th><th scope=col>&lt;dbl&gt;</th><th scope=col>&lt;dbl&gt;</th><th scope=col>&lt;chr&gt;</th></tr>\n",
       "</thead>\n",
       "<tbody>\n",
       "\t<tr><td>5.1</td><td>3.5</td><td>1.4</td><td>0.2</td><td>setosa</td></tr>\n",
       "\t<tr><td>4.9</td><td>3.0</td><td>1.4</td><td>0.2</td><td>setosa</td></tr>\n",
       "\t<tr><td>4.7</td><td>3.2</td><td>1.3</td><td>0.2</td><td>setosa</td></tr>\n",
       "\t<tr><td>4.6</td><td>3.1</td><td>1.5</td><td>0.2</td><td>setosa</td></tr>\n",
       "\t<tr><td>5.0</td><td>3.6</td><td>1.4</td><td>0.2</td><td>setosa</td></tr>\n",
       "\t<tr><td>5.4</td><td>3.9</td><td>1.7</td><td>0.4</td><td>setosa</td></tr>\n",
       "\t<tr><td>4.6</td><td>3.4</td><td>1.4</td><td>0.3</td><td>setosa</td></tr>\n",
       "\t<tr><td>5.0</td><td>3.4</td><td>1.5</td><td>0.2</td><td>setosa</td></tr>\n",
       "\t<tr><td>4.4</td><td>2.9</td><td>1.4</td><td>0.2</td><td>setosa</td></tr>\n",
       "\t<tr><td>4.9</td><td>3.1</td><td>1.5</td><td>0.1</td><td>setosa</td></tr>\n",
       "</tbody>\n",
       "</table>\n"
      ],
      "text/latex": [
       "A data.frame: 10 × 5\n",
       "\\begin{tabular}{lllll}\n",
       " Sepal\\_Length & Sepal\\_Width & Petal\\_Length & Petal\\_Width & Species\\\\\n",
       " <dbl> & <dbl> & <dbl> & <dbl> & <chr>\\\\\n",
       "\\hline\n",
       "\t 5.1 & 3.5 & 1.4 & 0.2 & setosa\\\\\n",
       "\t 4.9 & 3.0 & 1.4 & 0.2 & setosa\\\\\n",
       "\t 4.7 & 3.2 & 1.3 & 0.2 & setosa\\\\\n",
       "\t 4.6 & 3.1 & 1.5 & 0.2 & setosa\\\\\n",
       "\t 5.0 & 3.6 & 1.4 & 0.2 & setosa\\\\\n",
       "\t 5.4 & 3.9 & 1.7 & 0.4 & setosa\\\\\n",
       "\t 4.6 & 3.4 & 1.4 & 0.3 & setosa\\\\\n",
       "\t 5.0 & 3.4 & 1.5 & 0.2 & setosa\\\\\n",
       "\t 4.4 & 2.9 & 1.4 & 0.2 & setosa\\\\\n",
       "\t 4.9 & 3.1 & 1.5 & 0.1 & setosa\\\\\n",
       "\\end{tabular}\n"
      ],
      "text/markdown": [
       "\n",
       "A data.frame: 10 × 5\n",
       "\n",
       "| Sepal_Length &lt;dbl&gt; | Sepal_Width &lt;dbl&gt; | Petal_Length &lt;dbl&gt; | Petal_Width &lt;dbl&gt; | Species &lt;chr&gt; |\n",
       "|---|---|---|---|---|\n",
       "| 5.1 | 3.5 | 1.4 | 0.2 | setosa |\n",
       "| 4.9 | 3.0 | 1.4 | 0.2 | setosa |\n",
       "| 4.7 | 3.2 | 1.3 | 0.2 | setosa |\n",
       "| 4.6 | 3.1 | 1.5 | 0.2 | setosa |\n",
       "| 5.0 | 3.6 | 1.4 | 0.2 | setosa |\n",
       "| 5.4 | 3.9 | 1.7 | 0.4 | setosa |\n",
       "| 4.6 | 3.4 | 1.4 | 0.3 | setosa |\n",
       "| 5.0 | 3.4 | 1.5 | 0.2 | setosa |\n",
       "| 4.4 | 2.9 | 1.4 | 0.2 | setosa |\n",
       "| 4.9 | 3.1 | 1.5 | 0.1 | setosa |\n",
       "\n"
      ],
      "text/plain": [
       "   Sepal_Length Sepal_Width Petal_Length Petal_Width Species\n",
       "1  5.1          3.5         1.4          0.2         setosa \n",
       "2  4.9          3.0         1.4          0.2         setosa \n",
       "3  4.7          3.2         1.3          0.2         setosa \n",
       "4  4.6          3.1         1.5          0.2         setosa \n",
       "5  5.0          3.6         1.4          0.2         setosa \n",
       "6  5.4          3.9         1.7          0.4         setosa \n",
       "7  4.6          3.4         1.4          0.3         setosa \n",
       "8  5.0          3.4         1.5          0.2         setosa \n",
       "9  4.4          2.9         1.4          0.2         setosa \n",
       "10 4.9          3.1         1.5          0.1         setosa "
      ]
     },
     "metadata": {},
     "output_type": "display_data"
    }
   ],
   "source": [
    "library(DBI)\n",
    "iris_preview <- dbGetQuery(sc, \"SELECT * FROM iris LIMIT 10\")\n",
    "iris_preview"
   ]
  },
  {
   "cell_type": "code",
   "execution_count": 14,
   "id": "03ba6508-bbd0-4609-93da-16c3a25e1aba",
   "metadata": {},
   "outputs": [
    {
     "data": {
      "text/plain": [
       "\u001b[90m# Source:     spark<?> [?? x 2]\u001b[39m\n",
       "\u001b[90m# Ordered by: desc(n)\u001b[39m\n",
       "  income_class     n\n",
       "  \u001b[3m\u001b[90m<chr>\u001b[39m\u001b[23m        \u001b[3m\u001b[90m<dbl>\u001b[39m\u001b[23m\n",
       "\u001b[90m1\u001b[39m <=50K        \u001b[4m2\u001b[24m\u001b[4m4\u001b[24m720\n",
       "\u001b[90m2\u001b[39m >50K          \u001b[4m7\u001b[24m841"
      ]
     },
     "metadata": {},
     "output_type": "display_data"
    }
   ],
   "source": [
    "adult_train_spark %>% \n",
    "count(income_class, sort = TRUE) %>% \n",
    "head()"
   ]
  },
  {
   "cell_type": "code",
   "execution_count": 15,
   "id": "6db9eb92-b05a-4308-9dbc-02a9549a19bc",
   "metadata": {},
   "outputs": [
    {
     "name": "stdout",
     "output_type": "stream",
     "text": [
      "<SQL>\n",
      "SELECT `income_class`, COUNT(*) AS `n`\n",
      "FROM `adult_train`\n",
      "GROUP BY `income_class`\n",
      "ORDER BY `n` DESC\n"
     ]
    }
   ],
   "source": [
    "adult_train_spark %>% \n",
    "count(income_class, sort = TRUE) %>% \n",
    "show_query()"
   ]
  },
  {
   "cell_type": "code",
   "execution_count": 16,
   "id": "72991e03-99d6-454d-a44b-db5e84c1aaaa",
   "metadata": {},
   "outputs": [
    {
     "data": {
      "text/html": [
       "<table class=\"dataframe\">\n",
       "<caption>A data.frame: 2 × 2</caption>\n",
       "<thead>\n",
       "\t<tr><th scope=col>income_class</th><th scope=col>n</th></tr>\n",
       "\t<tr><th scope=col>&lt;chr&gt;</th><th scope=col>&lt;dbl&gt;</th></tr>\n",
       "</thead>\n",
       "<tbody>\n",
       "\t<tr><td>&lt;=50K</td><td>24720</td></tr>\n",
       "\t<tr><td>&gt;50K </td><td> 7841</td></tr>\n",
       "</tbody>\n",
       "</table>\n"
      ],
      "text/latex": [
       "A data.frame: 2 × 2\n",
       "\\begin{tabular}{ll}\n",
       " income\\_class & n\\\\\n",
       " <chr> & <dbl>\\\\\n",
       "\\hline\n",
       "\t <=50K & 24720\\\\\n",
       "\t >50K  &  7841\\\\\n",
       "\\end{tabular}\n"
      ],
      "text/markdown": [
       "\n",
       "A data.frame: 2 × 2\n",
       "\n",
       "| income_class &lt;chr&gt; | n &lt;dbl&gt; |\n",
       "|---|---|\n",
       "| &lt;=50K | 24720 |\n",
       "| &gt;50K  |  7841 |\n",
       "\n"
      ],
      "text/plain": [
       "  income_class n    \n",
       "1 <=50K        24720\n",
       "2 >50K          7841"
      ]
     },
     "metadata": {},
     "output_type": "display_data"
    }
   ],
   "source": [
    "query = \"SELECT `income_class`, COUNT(*) AS `n`\n",
    "FROM `adult_train`\n",
    "GROUP BY `income_class`\n",
    "ORDER BY `n` DESC\"\n",
    "\n",
    "dbGetQuery(sc, query)"
   ]
  },
  {
   "cell_type": "code",
   "execution_count": 17,
   "id": "48456be5-899e-46a0-9eb1-72ac2572e1a2",
   "metadata": {},
   "outputs": [
    {
     "data": {
      "text/html": [
       "<style>\n",
       ".list-inline {list-style: none; margin:0; padding: 0}\n",
       ".list-inline>li {display: inline-block}\n",
       ".list-inline>li:not(:last-child)::after {content: \"\\00b7\"; padding: 0 .5ex}\n",
       "</style>\n",
       "<ol class=list-inline><li>'adult_train'</li><li>'adult_train_50k'</li><li>'iris'</li></ol>\n"
      ],
      "text/latex": [
       "\\begin{enumerate*}\n",
       "\\item 'adult\\_train'\n",
       "\\item 'adult\\_train\\_50k'\n",
       "\\item 'iris'\n",
       "\\end{enumerate*}\n"
      ],
      "text/markdown": [
       "1. 'adult_train'\n",
       "2. 'adult_train_50k'\n",
       "3. 'iris'\n",
       "\n",
       "\n"
      ],
      "text/plain": [
       "[1] \"adult_train\"     \"adult_train_50k\" \"iris\"           "
      ]
     },
     "metadata": {},
     "output_type": "display_data"
    }
   ],
   "source": [
    "adult_train_50K <- adult_train_spark %>% \n",
    "filter(income_class == '>50K') %>%\n",
    "collect()\n",
    "\n",
    "adult_train_50K_spark <- copy_to(sc, adult_train_50K, overwrite = TRUE)\n",
    "\n",
    "dplyr::src_tbls(sc)"
   ]
  },
  {
   "cell_type": "code",
   "execution_count": 18,
   "id": "aae36ada-0064-4612-8a3b-c75a3f3acf21",
   "metadata": {},
   "outputs": [
    {
     "data": {
      "text/html": [
       "<table class=\"dataframe\">\n",
       "<caption>A data.frame: 10 × 15</caption>\n",
       "<thead>\n",
       "\t<tr><th scope=col>age</th><th scope=col>workclass</th><th scope=col>fnlwgt</th><th scope=col>education</th><th scope=col>education_num</th><th scope=col>marital_status</th><th scope=col>occupation</th><th scope=col>relationship</th><th scope=col>race</th><th scope=col>sex</th><th scope=col>capital_gain</th><th scope=col>capital_loss</th><th scope=col>hours_per_week</th><th scope=col>native_country</th><th scope=col>income_class</th></tr>\n",
       "\t<tr><th scope=col>&lt;int&gt;</th><th scope=col>&lt;chr&gt;</th><th scope=col>&lt;int&gt;</th><th scope=col>&lt;chr&gt;</th><th scope=col>&lt;int&gt;</th><th scope=col>&lt;chr&gt;</th><th scope=col>&lt;chr&gt;</th><th scope=col>&lt;chr&gt;</th><th scope=col>&lt;chr&gt;</th><th scope=col>&lt;chr&gt;</th><th scope=col>&lt;int&gt;</th><th scope=col>&lt;int&gt;</th><th scope=col>&lt;int&gt;</th><th scope=col>&lt;chr&gt;</th><th scope=col>&lt;chr&gt;</th></tr>\n",
       "</thead>\n",
       "<tbody>\n",
       "\t<tr><td>52</td><td>Self-emp-not-inc</td><td>209642</td><td><span style=white-space:pre-wrap>HS-grad     </span></td><td> 9</td><td>Married-civ-spouse</td><td>Exec-managerial</td><td><span style=white-space:pre-wrap>Husband      </span></td><td><span style=white-space:pre-wrap>White             </span></td><td><span style=white-space:pre-wrap>Male  </span></td><td><span style=white-space:pre-wrap>    0</span></td><td>0</td><td>45</td><td>United-States</td><td>&gt;50K</td></tr>\n",
       "\t<tr><td>31</td><td><span style=white-space:pre-wrap>Private         </span></td><td> 45781</td><td><span style=white-space:pre-wrap>Masters     </span></td><td>14</td><td><span style=white-space:pre-wrap>Never-married     </span></td><td>Prof-specialty </td><td>Not-in-family</td><td><span style=white-space:pre-wrap>White             </span></td><td>Female</td><td>14084</td><td>0</td><td>50</td><td>United-States</td><td>&gt;50K</td></tr>\n",
       "\t<tr><td>42</td><td><span style=white-space:pre-wrap>Private         </span></td><td>159449</td><td><span style=white-space:pre-wrap>Bachelors   </span></td><td>13</td><td>Married-civ-spouse</td><td>Exec-managerial</td><td><span style=white-space:pre-wrap>Husband      </span></td><td><span style=white-space:pre-wrap>White             </span></td><td><span style=white-space:pre-wrap>Male  </span></td><td> 5178</td><td>0</td><td>40</td><td>United-States</td><td>&gt;50K</td></tr>\n",
       "\t<tr><td>37</td><td><span style=white-space:pre-wrap>Private         </span></td><td>280464</td><td>Some-college</td><td>10</td><td>Married-civ-spouse</td><td>Exec-managerial</td><td><span style=white-space:pre-wrap>Husband      </span></td><td><span style=white-space:pre-wrap>Black             </span></td><td><span style=white-space:pre-wrap>Male  </span></td><td><span style=white-space:pre-wrap>    0</span></td><td>0</td><td>80</td><td>United-States</td><td>&gt;50K</td></tr>\n",
       "\t<tr><td>30</td><td><span style=white-space:pre-wrap>State-gov       </span></td><td>141297</td><td><span style=white-space:pre-wrap>Bachelors   </span></td><td>13</td><td>Married-civ-spouse</td><td>Prof-specialty </td><td><span style=white-space:pre-wrap>Husband      </span></td><td>Asian-Pac-Islander</td><td><span style=white-space:pre-wrap>Male  </span></td><td><span style=white-space:pre-wrap>    0</span></td><td>0</td><td>40</td><td><span style=white-space:pre-wrap>India        </span></td><td>&gt;50K</td></tr>\n",
       "\t<tr><td>40</td><td><span style=white-space:pre-wrap>Private         </span></td><td>121772</td><td><span style=white-space:pre-wrap>Assoc-voc   </span></td><td>11</td><td>Married-civ-spouse</td><td><span style=white-space:pre-wrap>Craft-repair   </span></td><td><span style=white-space:pre-wrap>Husband      </span></td><td>Asian-Pac-Islander</td><td><span style=white-space:pre-wrap>Male  </span></td><td><span style=white-space:pre-wrap>    0</span></td><td>0</td><td>40</td><td><span style=white-space:pre-wrap>NA           </span></td><td>&gt;50K</td></tr>\n",
       "\t<tr><td>43</td><td>Self-emp-not-inc</td><td>292175</td><td><span style=white-space:pre-wrap>Masters     </span></td><td>14</td><td><span style=white-space:pre-wrap>Divorced          </span></td><td>Exec-managerial</td><td><span style=white-space:pre-wrap>Unmarried    </span></td><td><span style=white-space:pre-wrap>White             </span></td><td>Female</td><td><span style=white-space:pre-wrap>    0</span></td><td>0</td><td>45</td><td>United-States</td><td>&gt;50K</td></tr>\n",
       "\t<tr><td>40</td><td><span style=white-space:pre-wrap>Private         </span></td><td>193524</td><td><span style=white-space:pre-wrap>Doctorate   </span></td><td>16</td><td>Married-civ-spouse</td><td>Prof-specialty </td><td><span style=white-space:pre-wrap>Husband      </span></td><td><span style=white-space:pre-wrap>White             </span></td><td><span style=white-space:pre-wrap>Male  </span></td><td><span style=white-space:pre-wrap>    0</span></td><td>0</td><td>60</td><td>United-States</td><td>&gt;50K</td></tr>\n",
       "\t<tr><td>56</td><td><span style=white-space:pre-wrap>Local-gov       </span></td><td>216851</td><td><span style=white-space:pre-wrap>Bachelors   </span></td><td>13</td><td>Married-civ-spouse</td><td><span style=white-space:pre-wrap>Tech-support   </span></td><td><span style=white-space:pre-wrap>Husband      </span></td><td><span style=white-space:pre-wrap>White             </span></td><td><span style=white-space:pre-wrap>Male  </span></td><td><span style=white-space:pre-wrap>    0</span></td><td>0</td><td>40</td><td>United-States</td><td>&gt;50K</td></tr>\n",
       "\t<tr><td>54</td><td><span style=white-space:pre-wrap>NA              </span></td><td>180211</td><td>Some-college</td><td>10</td><td>Married-civ-spouse</td><td><span style=white-space:pre-wrap>NA             </span></td><td><span style=white-space:pre-wrap>Husband      </span></td><td>Asian-Pac-Islander</td><td><span style=white-space:pre-wrap>Male  </span></td><td><span style=white-space:pre-wrap>    0</span></td><td>0</td><td>60</td><td><span style=white-space:pre-wrap>South        </span></td><td>&gt;50K</td></tr>\n",
       "</tbody>\n",
       "</table>\n"
      ],
      "text/latex": [
       "A data.frame: 10 × 15\n",
       "\\begin{tabular}{lllllllllllllll}\n",
       " age & workclass & fnlwgt & education & education\\_num & marital\\_status & occupation & relationship & race & sex & capital\\_gain & capital\\_loss & hours\\_per\\_week & native\\_country & income\\_class\\\\\n",
       " <int> & <chr> & <int> & <chr> & <int> & <chr> & <chr> & <chr> & <chr> & <chr> & <int> & <int> & <int> & <chr> & <chr>\\\\\n",
       "\\hline\n",
       "\t 52 & Self-emp-not-inc & 209642 & HS-grad      &  9 & Married-civ-spouse & Exec-managerial & Husband       & White              & Male   &     0 & 0 & 45 & United-States & >50K\\\\\n",
       "\t 31 & Private          &  45781 & Masters      & 14 & Never-married      & Prof-specialty  & Not-in-family & White              & Female & 14084 & 0 & 50 & United-States & >50K\\\\\n",
       "\t 42 & Private          & 159449 & Bachelors    & 13 & Married-civ-spouse & Exec-managerial & Husband       & White              & Male   &  5178 & 0 & 40 & United-States & >50K\\\\\n",
       "\t 37 & Private          & 280464 & Some-college & 10 & Married-civ-spouse & Exec-managerial & Husband       & Black              & Male   &     0 & 0 & 80 & United-States & >50K\\\\\n",
       "\t 30 & State-gov        & 141297 & Bachelors    & 13 & Married-civ-spouse & Prof-specialty  & Husband       & Asian-Pac-Islander & Male   &     0 & 0 & 40 & India         & >50K\\\\\n",
       "\t 40 & Private          & 121772 & Assoc-voc    & 11 & Married-civ-spouse & Craft-repair    & Husband       & Asian-Pac-Islander & Male   &     0 & 0 & 40 & NA            & >50K\\\\\n",
       "\t 43 & Self-emp-not-inc & 292175 & Masters      & 14 & Divorced           & Exec-managerial & Unmarried     & White              & Female &     0 & 0 & 45 & United-States & >50K\\\\\n",
       "\t 40 & Private          & 193524 & Doctorate    & 16 & Married-civ-spouse & Prof-specialty  & Husband       & White              & Male   &     0 & 0 & 60 & United-States & >50K\\\\\n",
       "\t 56 & Local-gov        & 216851 & Bachelors    & 13 & Married-civ-spouse & Tech-support    & Husband       & White              & Male   &     0 & 0 & 40 & United-States & >50K\\\\\n",
       "\t 54 & NA               & 180211 & Some-college & 10 & Married-civ-spouse & NA              & Husband       & Asian-Pac-Islander & Male   &     0 & 0 & 60 & South         & >50K\\\\\n",
       "\\end{tabular}\n"
      ],
      "text/markdown": [
       "\n",
       "A data.frame: 10 × 15\n",
       "\n",
       "| age &lt;int&gt; | workclass &lt;chr&gt; | fnlwgt &lt;int&gt; | education &lt;chr&gt; | education_num &lt;int&gt; | marital_status &lt;chr&gt; | occupation &lt;chr&gt; | relationship &lt;chr&gt; | race &lt;chr&gt; | sex &lt;chr&gt; | capital_gain &lt;int&gt; | capital_loss &lt;int&gt; | hours_per_week &lt;int&gt; | native_country &lt;chr&gt; | income_class &lt;chr&gt; |\n",
       "|---|---|---|---|---|---|---|---|---|---|---|---|---|---|---|\n",
       "| 52 | Self-emp-not-inc | 209642 | HS-grad      |  9 | Married-civ-spouse | Exec-managerial | Husband       | White              | Male   |     0 | 0 | 45 | United-States | &gt;50K |\n",
       "| 31 | Private          |  45781 | Masters      | 14 | Never-married      | Prof-specialty  | Not-in-family | White              | Female | 14084 | 0 | 50 | United-States | &gt;50K |\n",
       "| 42 | Private          | 159449 | Bachelors    | 13 | Married-civ-spouse | Exec-managerial | Husband       | White              | Male   |  5178 | 0 | 40 | United-States | &gt;50K |\n",
       "| 37 | Private          | 280464 | Some-college | 10 | Married-civ-spouse | Exec-managerial | Husband       | Black              | Male   |     0 | 0 | 80 | United-States | &gt;50K |\n",
       "| 30 | State-gov        | 141297 | Bachelors    | 13 | Married-civ-spouse | Prof-specialty  | Husband       | Asian-Pac-Islander | Male   |     0 | 0 | 40 | India         | &gt;50K |\n",
       "| 40 | Private          | 121772 | Assoc-voc    | 11 | Married-civ-spouse | Craft-repair    | Husband       | Asian-Pac-Islander | Male   |     0 | 0 | 40 | NA            | &gt;50K |\n",
       "| 43 | Self-emp-not-inc | 292175 | Masters      | 14 | Divorced           | Exec-managerial | Unmarried     | White              | Female |     0 | 0 | 45 | United-States | &gt;50K |\n",
       "| 40 | Private          | 193524 | Doctorate    | 16 | Married-civ-spouse | Prof-specialty  | Husband       | White              | Male   |     0 | 0 | 60 | United-States | &gt;50K |\n",
       "| 56 | Local-gov        | 216851 | Bachelors    | 13 | Married-civ-spouse | Tech-support    | Husband       | White              | Male   |     0 | 0 | 40 | United-States | &gt;50K |\n",
       "| 54 | NA               | 180211 | Some-college | 10 | Married-civ-spouse | NA              | Husband       | Asian-Pac-Islander | Male   |     0 | 0 | 60 | South         | &gt;50K |\n",
       "\n"
      ],
      "text/plain": [
       "   age workclass        fnlwgt education    education_num marital_status    \n",
       "1  52  Self-emp-not-inc 209642 HS-grad       9            Married-civ-spouse\n",
       "2  31  Private           45781 Masters      14            Never-married     \n",
       "3  42  Private          159449 Bachelors    13            Married-civ-spouse\n",
       "4  37  Private          280464 Some-college 10            Married-civ-spouse\n",
       "5  30  State-gov        141297 Bachelors    13            Married-civ-spouse\n",
       "6  40  Private          121772 Assoc-voc    11            Married-civ-spouse\n",
       "7  43  Self-emp-not-inc 292175 Masters      14            Divorced          \n",
       "8  40  Private          193524 Doctorate    16            Married-civ-spouse\n",
       "9  56  Local-gov        216851 Bachelors    13            Married-civ-spouse\n",
       "10 54  NA               180211 Some-college 10            Married-civ-spouse\n",
       "   occupation      relationship  race               sex    capital_gain\n",
       "1  Exec-managerial Husband       White              Male       0       \n",
       "2  Prof-specialty  Not-in-family White              Female 14084       \n",
       "3  Exec-managerial Husband       White              Male    5178       \n",
       "4  Exec-managerial Husband       Black              Male       0       \n",
       "5  Prof-specialty  Husband       Asian-Pac-Islander Male       0       \n",
       "6  Craft-repair    Husband       Asian-Pac-Islander Male       0       \n",
       "7  Exec-managerial Unmarried     White              Female     0       \n",
       "8  Prof-specialty  Husband       White              Male       0       \n",
       "9  Tech-support    Husband       White              Male       0       \n",
       "10 NA              Husband       Asian-Pac-Islander Male       0       \n",
       "   capital_loss hours_per_week native_country income_class\n",
       "1  0            45             United-States  >50K        \n",
       "2  0            50             United-States  >50K        \n",
       "3  0            40             United-States  >50K        \n",
       "4  0            80             United-States  >50K        \n",
       "5  0            40             India          >50K        \n",
       "6  0            40             NA             >50K        \n",
       "7  0            45             United-States  >50K        \n",
       "8  0            60             United-States  >50K        \n",
       "9  0            40             United-States  >50K        \n",
       "10 0            60             South          >50K        "
      ]
     },
     "metadata": {},
     "output_type": "display_data"
    }
   ],
   "source": [
    "adult_train_50K_preview <- dbGetQuery(sc, \"SELECT * FROM adult_train_50k LIMIT 10\")\n",
    "adult_train_50K_preview"
   ]
  },
  {
   "cell_type": "code",
   "execution_count": 19,
   "id": "3f89beaf-e1a5-4859-a7f1-bf98141912a7",
   "metadata": {},
   "outputs": [
    {
     "data": {
      "text/html": [
       "<style>\n",
       ".list-inline {list-style: none; margin:0; padding: 0}\n",
       ".list-inline>li {display: inline-block}\n",
       ".list-inline>li:not(:last-child)::after {content: \"\\00b7\"; padding: 0 .5ex}\n",
       "</style>\n",
       "<ol class=list-inline><li>'adult_train'</li><li>'adult_train_50k'</li><li>'adult_train_us'</li><li>'iris'</li></ol>\n"
      ],
      "text/latex": [
       "\\begin{enumerate*}\n",
       "\\item 'adult\\_train'\n",
       "\\item 'adult\\_train\\_50k'\n",
       "\\item 'adult\\_train\\_us'\n",
       "\\item 'iris'\n",
       "\\end{enumerate*}\n"
      ],
      "text/markdown": [
       "1. 'adult_train'\n",
       "2. 'adult_train_50k'\n",
       "3. 'adult_train_us'\n",
       "4. 'iris'\n",
       "\n",
       "\n"
      ],
      "text/plain": [
       "[1] \"adult_train\"     \"adult_train_50k\" \"adult_train_us\"  \"iris\"           "
      ]
     },
     "metadata": {},
     "output_type": "display_data"
    }
   ],
   "source": [
    "adult_train_us <- adult_train_spark %>% \n",
    "mutate(native_country_us = ifelse(native_country == 'United-States', 1, 0)) %>%\n",
    "collect()\n",
    "\n",
    "adult_train_us_spark <- copy_to(sc, adult_train_us, overwrite = TRUE)\n",
    "\n",
    "dplyr::src_tbls(sc)"
   ]
  },
  {
   "cell_type": "code",
   "execution_count": 20,
   "id": "2ccad4a1-c51d-4acf-87b2-02939ee4eae6",
   "metadata": {},
   "outputs": [
    {
     "data": {
      "text/plain": [
       "\u001b[90m# Source: spark<?> [?? x 6]\u001b[39m\n",
       "    age fnlwgt education_num capital_gain capital_loss hours_per_week\n",
       "  \u001b[3m\u001b[90m<int>\u001b[39m\u001b[23m  \u001b[3m\u001b[90m<int>\u001b[39m\u001b[23m         \u001b[3m\u001b[90m<int>\u001b[39m\u001b[23m        \u001b[3m\u001b[90m<int>\u001b[39m\u001b[23m        \u001b[3m\u001b[90m<int>\u001b[39m\u001b[23m          \u001b[3m\u001b[90m<int>\u001b[39m\u001b[23m\n",
       "\u001b[90m1\u001b[39m    39  \u001b[4m7\u001b[24m\u001b[4m7\u001b[24m516            13         \u001b[4m2\u001b[24m174            0             40\n",
       "\u001b[90m2\u001b[39m    50  \u001b[4m8\u001b[24m\u001b[4m3\u001b[24m311            13            0            0             13\n",
       "\u001b[90m3\u001b[39m    38 \u001b[4m2\u001b[24m\u001b[4m1\u001b[24m\u001b[4m5\u001b[24m646             9            0            0             40\n",
       "\u001b[90m4\u001b[39m    53 \u001b[4m2\u001b[24m\u001b[4m3\u001b[24m\u001b[4m4\u001b[24m721             7            0            0             40\n",
       "\u001b[90m5\u001b[39m    28 \u001b[4m3\u001b[24m\u001b[4m3\u001b[24m\u001b[4m8\u001b[24m409            13            0            0             40\n",
       "\u001b[90m6\u001b[39m    37 \u001b[4m2\u001b[24m\u001b[4m8\u001b[24m\u001b[4m4\u001b[24m582            14            0            0             40"
      ]
     },
     "metadata": {},
     "output_type": "display_data"
    }
   ],
   "source": [
    "adult_train_spark %>%\n",
    "select_if(is.numeric) %>%\n",
    "head()"
   ]
  },
  {
   "cell_type": "code",
   "execution_count": 21,
   "id": "97ab2dd1-edf9-4d39-aef8-90e5c720e044",
   "metadata": {},
   "outputs": [
    {
     "data": {
      "text/plain": [
       "\u001b[90m# Source:     spark<?> [?? x 5]\u001b[39m\n",
       "\u001b[90m# Ordered by: desc(count)\u001b[39m\n",
       "  workclass        count mean_age min_age max_age\n",
       "  \u001b[3m\u001b[90m<chr>\u001b[39m\u001b[23m            \u001b[3m\u001b[90m<dbl>\u001b[39m\u001b[23m    \u001b[3m\u001b[90m<dbl>\u001b[39m\u001b[23m   \u001b[3m\u001b[90m<int>\u001b[39m\u001b[23m   \u001b[3m\u001b[90m<int>\u001b[39m\u001b[23m\n",
       "\u001b[90m1\u001b[39m Private          \u001b[4m2\u001b[24m\u001b[4m2\u001b[24m696     36.8      17      90\n",
       "\u001b[90m2\u001b[39m Self-emp-not-inc  \u001b[4m2\u001b[24m541     45.0      17      90\n",
       "\u001b[90m3\u001b[39m Local-gov         \u001b[4m2\u001b[24m093     41.8      17      90\n",
       "\u001b[90m4\u001b[39m \u001b[31mNA\u001b[39m                \u001b[4m1\u001b[24m836     41.0      17      90\n",
       "\u001b[90m5\u001b[39m State-gov         \u001b[4m1\u001b[24m298     39.4      17      81\n",
       "\u001b[90m6\u001b[39m Self-emp-inc      \u001b[4m1\u001b[24m116     46.0      17      84\n",
       "\u001b[90m7\u001b[39m Federal-gov        960     42.6      17      90\n",
       "\u001b[90m8\u001b[39m Without-pay         14     47.8      19      72\n",
       "\u001b[90m9\u001b[39m Never-worked         7     20.6      17      30"
      ]
     },
     "metadata": {},
     "output_type": "display_data"
    }
   ],
   "source": [
    "adult_train_spark %>% \n",
    "  group_by(workclass) %>%\n",
    "  summarize(\n",
    "    count = n(), \n",
    "    mean_age = mean(age, na.rm = TRUE),\n",
    "    min_age = min(age, na.rm = TRUE),\n",
    "    max_age = max(age, na.rm = TRUE)\n",
    "    ) %>%\n",
    "    arrange(desc(count)) %>%\n",
    "    head(10)"
   ]
  },
  {
   "cell_type": "code",
   "execution_count": 22,
   "id": "e9270e8c-15b7-4b54-9261-2527ce75f828",
   "metadata": {},
   "outputs": [
    {
     "data": {
      "text/plain": [
       "\u001b[90m# Source:     spark<?> [?? x 3]\u001b[39m\n",
       "\u001b[90m# Ordered by: desc(weight)\u001b[39m\n",
       "    age fnlwgt  weight\n",
       "  \u001b[3m\u001b[90m<int>\u001b[39m\u001b[23m  \u001b[3m\u001b[90m<int>\u001b[39m\u001b[23m   \u001b[3m\u001b[90m<dbl>\u001b[39m\u001b[23m\n",
       "\u001b[90m1\u001b[39m    63  \u001b[4m2\u001b[24m\u001b[4m0\u001b[24m323 0.003\u001b[4m1\u001b[24m\u001b[4m0\u001b[24m\n",
       "\u001b[90m2\u001b[39m    64  \u001b[4m2\u001b[24m\u001b[4m1\u001b[24m174 0.003\u001b[4m0\u001b[24m\u001b[4m2\u001b[24m\n",
       "\u001b[90m3\u001b[39m    76  \u001b[4m2\u001b[24m\u001b[4m5\u001b[24m319 0.003\u001b[4m0\u001b[24m\u001b[4m0\u001b[24m\n",
       "\u001b[90m4\u001b[39m    80  \u001b[4m2\u001b[24m\u001b[4m6\u001b[24m865 0.002\u001b[4m9\u001b[24m\u001b[4m8\u001b[24m\n",
       "\u001b[90m5\u001b[39m    66  \u001b[4m2\u001b[24m\u001b[4m2\u001b[24m313 0.002\u001b[4m9\u001b[24m\u001b[4m6\u001b[24m\n",
       "\u001b[90m6\u001b[39m    57  \u001b[4m1\u001b[24m\u001b[4m9\u001b[24m520 0.002\u001b[4m9\u001b[24m\u001b[4m2\u001b[24m"
      ]
     },
     "metadata": {},
     "output_type": "display_data"
    }
   ],
   "source": [
    "adult_train_weight_spark <- adult_train_spark %>%\n",
    "filter(capital_gain == 0, native_country == 'United-States', race %in% c('White', 'Black')) %>%\n",
    "select(age, fnlwgt) %>%\n",
    "mutate(weight = age / fnlwgt) %>%\n",
    "arrange(desc(weight))\n",
    "\n",
    "adult_train_weight_spark %>%\n",
    "head()"
   ]
  },
  {
   "cell_type": "code",
   "execution_count": 23,
   "id": "1d317506-00bd-4c88-9112-5660eb9d3ef9",
   "metadata": {},
   "outputs": [
    {
     "data": {
      "text/html": [
       "<table class=\"dataframe\">\n",
       "<caption>A tibble: 6 × 3</caption>\n",
       "<thead>\n",
       "\t<tr><th scope=col>age</th><th scope=col>fnlwgt</th><th scope=col>weight</th></tr>\n",
       "\t<tr><th scope=col>&lt;int&gt;</th><th scope=col>&lt;int&gt;</th><th scope=col>&lt;dbl&gt;</th></tr>\n",
       "</thead>\n",
       "<tbody>\n",
       "\t<tr><td>63</td><td>20323</td><td>0.003099936</td></tr>\n",
       "\t<tr><td>64</td><td>21174</td><td>0.003022575</td></tr>\n",
       "\t<tr><td>76</td><td>25319</td><td>0.003001698</td></tr>\n",
       "\t<tr><td>80</td><td>26865</td><td>0.002977852</td></tr>\n",
       "\t<tr><td>66</td><td>22313</td><td>0.002957917</td></tr>\n",
       "\t<tr><td>57</td><td>19520</td><td>0.002920082</td></tr>\n",
       "</tbody>\n",
       "</table>\n"
      ],
      "text/latex": [
       "A tibble: 6 × 3\n",
       "\\begin{tabular}{lll}\n",
       " age & fnlwgt & weight\\\\\n",
       " <int> & <int> & <dbl>\\\\\n",
       "\\hline\n",
       "\t 63 & 20323 & 0.003099936\\\\\n",
       "\t 64 & 21174 & 0.003022575\\\\\n",
       "\t 76 & 25319 & 0.003001698\\\\\n",
       "\t 80 & 26865 & 0.002977852\\\\\n",
       "\t 66 & 22313 & 0.002957917\\\\\n",
       "\t 57 & 19520 & 0.002920082\\\\\n",
       "\\end{tabular}\n"
      ],
      "text/markdown": [
       "\n",
       "A tibble: 6 × 3\n",
       "\n",
       "| age &lt;int&gt; | fnlwgt &lt;int&gt; | weight &lt;dbl&gt; |\n",
       "|---|---|---|\n",
       "| 63 | 20323 | 0.003099936 |\n",
       "| 64 | 21174 | 0.003022575 |\n",
       "| 76 | 25319 | 0.003001698 |\n",
       "| 80 | 26865 | 0.002977852 |\n",
       "| 66 | 22313 | 0.002957917 |\n",
       "| 57 | 19520 | 0.002920082 |\n",
       "\n"
      ],
      "text/plain": [
       "  age fnlwgt weight     \n",
       "1 63  20323  0.003099936\n",
       "2 64  21174  0.003022575\n",
       "3 76  25319  0.003001698\n",
       "4 80  26865  0.002977852\n",
       "5 66  22313  0.002957917\n",
       "6 57  19520  0.002920082"
      ]
     },
     "metadata": {},
     "output_type": "display_data"
    }
   ],
   "source": [
    "# collecting to R\n",
    "weight <- collect(adult_train_weight_spark)\n",
    "head(weight)"
   ]
  },
  {
   "cell_type": "code",
   "execution_count": 24,
   "id": "0997dc8d-fff8-497a-9942-746dc47d50d1",
   "metadata": {},
   "outputs": [],
   "source": [
    "library(dbplot)"
   ]
  },
  {
   "cell_type": "code",
   "execution_count": 25,
   "id": "6b55c85d-eec4-4b93-acc4-2b05cafb4bb0",
   "metadata": {},
   "outputs": [
    {
     "data": {
      "image/png": "[encoded data removed]",
      "text/plain": [
       "plot without title"
      ]
     },
     "metadata": {
      "image/png": {
       "height": 420,
       "width": 420
      }
     },
     "output_type": "display_data"
    }
   ],
   "source": [
    "adult_train_spark %>%\n",
    "dbplot_histogram(age, binwidth = 5) +\n",
    "labs(title = \"Age distribution\",\n",
    "     subtitle = \"Histogram over age\")"
   ]
  },
  {
   "cell_type": "code",
   "execution_count": 26,
   "id": "1e8f7c58-1b4f-4a52-89b4-b1eaa1487082",
   "metadata": {},
   "outputs": [
    {
     "data": {
      "image/png": "[encoded data removed]",
      "text/plain": [
       "plot without title"
      ]
     },
     "metadata": {
      "image/png": {
       "height": 420,
       "width": 420
      }
     },
     "output_type": "display_data"
    }
   ],
   "source": [
    "ggplot(aes(age, fnlwgt), data = adult_train_spark) + \n",
    "geom_point() +\n",
    "labs(title = \"Age vs. fnlwgt\",\n",
    "     subtitle = \"Scatterplot of age vs. fnlwgt\")"
   ]
  },
  {
   "cell_type": "code",
   "execution_count": 27,
   "id": "dd9899f7-f40e-4007-9aaf-d6eb6666f3f2",
   "metadata": {},
   "outputs": [],
   "source": [
    "computed_adult_train_spark <- adult_train_spark %>%\n",
    "mutate(target = ifelse(income_class == '>50K', 1, 0)) %>%\n",
    "select(target, age, fnlwgt, hours_per_week) %>%\n",
    "compute(\"computed_adult_train_spark\")"
   ]
  },
  {
   "cell_type": "code",
   "execution_count": 28,
   "id": "8c36ef36-b475-410f-8e2e-504153833330",
   "metadata": {},
   "outputs": [
    {
     "data": {
      "text/plain": [
       "Formula: fnlwgt ~ age + hours_per_week\n",
       "\n",
       "Coefficients:\n",
       "   (Intercept)            age hours_per_week \n",
       "   217070.5405      -585.8716      -115.9391 "
      ]
     },
     "metadata": {},
     "output_type": "display_data"
    }
   ],
   "source": [
    "# fit a linear model to the training dataset\n",
    "fit <- computed_adult_train_spark %>%\n",
    "  ml_linear_regression(response = \"fnlwgt\", features = c(\"age\", \"hours_per_week\"))\n",
    "fit"
   ]
  },
  {
   "cell_type": "code",
   "execution_count": 29,
   "id": "7da71e09-ad0a-4933-b9eb-c7b9e2742ae0",
   "metadata": {},
   "outputs": [
    {
     "name": "stdout",
     "output_type": "stream",
     "text": [
      "Deviance Residuals:\n",
      "    Min      1Q  Median      3Q     Max \n",
      "-187820  -71342  -10579   47669 1285180 \n",
      "\n",
      "Coefficients:\n",
      "   (Intercept)            age hours_per_week \n",
      "   217070.5405      -585.8716      -115.9391 \n",
      "\n",
      "R-Squared: 0.006058\n",
      "Root Mean Squared Error: 105200\n"
     ]
    }
   ],
   "source": [
    "summary(fit)"
   ]
  },
  {
   "cell_type": "code",
   "execution_count": 30,
   "id": "829f69e8-f28a-44ba-b6ac-7c629e1a17f4",
   "metadata": {},
   "outputs": [
    {
     "name": "stdout",
     "output_type": "stream",
     "text": [
      "Deviance Residuals:\n",
      "    Min      1Q  Median      3Q     Max \n",
      "-187820  -71342  -10579   47669 1285180 \n",
      "\n",
      "Coefficients:\n",
      "   (Intercept)            age hours_per_week \n",
      "   217070.5405      -585.8716      -115.9391 \n",
      "\n",
      "(Dispersion parameter for gaussian family taken to be 11073990000)\n",
      "\n",
      "   Null  deviance: 3.62744e+14 on 32560 degrees of freedom\n",
      "Residual deviance: 3.60547e+14 on 32560 degrees of freedom\n",
      "AIC: 845480\n"
     ]
    }
   ],
   "source": [
    "computed_adult_train_spark %>%\n",
    "ml_generalized_linear_regression(fnlwgt ~ age + hours_per_week) %>%\n",
    "summary()"
   ]
  },
  {
   "cell_type": "code",
   "execution_count": 31,
   "id": "ad010d53-e97e-44da-ab2c-490c327b17c7",
   "metadata": {},
   "outputs": [
    {
     "name": "stdout",
     "output_type": "stream",
     "text": [
      "Coefficients:\n",
      "   (Intercept)            age         fnlwgt hours_per_week \n",
      " -4.999450e+00   4.339923e-02   3.732032e-07   4.795340e-02 \n",
      "\n"
     ]
    }
   ],
   "source": [
    "lr_model <- computed_adult_train_spark %>%\n",
    "  ml_logistic_regression(target~.)\n",
    "\n",
    "lr_model %>%\n",
    "summary()"
   ]
  },
  {
   "cell_type": "code",
   "execution_count": 32,
   "id": "2579dd0a-1128-428b-b8af-f555f4c8fa1a",
   "metadata": {},
   "outputs": [
    {
     "data": {
      "text/html": [
       "0.729973703179991"
      ],
      "text/latex": [
       "0.729973703179991"
      ],
      "text/markdown": [
       "0.729973703179991"
      ],
      "text/plain": [
       "[1] 0.7299737"
      ]
     },
     "metadata": {},
     "output_type": "display_data"
    }
   ],
   "source": [
    "pred <- ml_predict(lr_model, computed_adult_train_spark)\n",
    "ml_binary_classification_evaluator(pred)"
   ]
  },
  {
   "cell_type": "code",
   "execution_count": 33,
   "id": "a9f9cd93-3608-401e-9eca-a7ffd7d2c477",
   "metadata": {},
   "outputs": [
    {
     "name": "stdout",
     "output_type": "stream",
     "text": [
      "K-means clustering with 3 clusters\n",
      "\n",
      "Cluster centers:\n",
      "  Petal_Length Petal_Width\n",
      "1     5.626087    2.047826\n",
      "2     1.462000    0.246000\n",
      "3     4.292593    1.359259\n",
      "\n",
      "Within Set Sum of Squared Errors =  not computed."
     ]
    }
   ],
   "source": [
    "## fit a k-mean clustering using iris_tbl data\n",
    "fit2 <- ml_kmeans(x = iris_spark, k = 3, features = c(\"Petal_Length\", \"Petal_Width\"))\n",
    "\n",
    "# print our model fit\n",
    "print(fit2)"
   ]
  },
  {
   "cell_type": "code",
   "execution_count": 34,
   "id": "9485745e-5d7b-4c93-887d-54490b3bff79",
   "metadata": {},
   "outputs": [
    {
     "data": {
      "text/html": [
       "<table class=\"dataframe\">\n",
       "<caption>A tibble: 6 × 7</caption>\n",
       "<thead>\n",
       "\t<tr><th scope=col>Sepal_Length</th><th scope=col>Sepal_Width</th><th scope=col>Petal_Length</th><th scope=col>Petal_Width</th><th scope=col>Species</th><th scope=col>features</th><th scope=col>prediction</th></tr>\n",
       "\t<tr><th scope=col>&lt;dbl&gt;</th><th scope=col>&lt;dbl&gt;</th><th scope=col>&lt;dbl&gt;</th><th scope=col>&lt;dbl&gt;</th><th scope=col>&lt;chr&gt;</th><th scope=col>&lt;list&gt;</th><th scope=col>&lt;int&gt;</th></tr>\n",
       "</thead>\n",
       "<tbody>\n",
       "\t<tr><td>5.1</td><td>3.5</td><td>1.4</td><td>0.2</td><td>setosa</td><td>1.4, 0.2</td><td>1</td></tr>\n",
       "\t<tr><td>4.9</td><td>3.0</td><td>1.4</td><td>0.2</td><td>setosa</td><td>1.4, 0.2</td><td>1</td></tr>\n",
       "\t<tr><td>4.7</td><td>3.2</td><td>1.3</td><td>0.2</td><td>setosa</td><td>1.3, 0.2</td><td>1</td></tr>\n",
       "\t<tr><td>4.6</td><td>3.1</td><td>1.5</td><td>0.2</td><td>setosa</td><td>1.5, 0.2</td><td>1</td></tr>\n",
       "\t<tr><td>5.0</td><td>3.6</td><td>1.4</td><td>0.2</td><td>setosa</td><td>1.4, 0.2</td><td>1</td></tr>\n",
       "\t<tr><td>5.4</td><td>3.9</td><td>1.7</td><td>0.4</td><td>setosa</td><td>1.7, 0.4</td><td>1</td></tr>\n",
       "</tbody>\n",
       "</table>\n"
      ],
      "text/latex": [
       "A tibble: 6 × 7\n",
       "\\begin{tabular}{lllllll}\n",
       " Sepal\\_Length & Sepal\\_Width & Petal\\_Length & Petal\\_Width & Species & features & prediction\\\\\n",
       " <dbl> & <dbl> & <dbl> & <dbl> & <chr> & <list> & <int>\\\\\n",
       "\\hline\n",
       "\t 5.1 & 3.5 & 1.4 & 0.2 & setosa & 1.4, 0.2 & 1\\\\\n",
       "\t 4.9 & 3.0 & 1.4 & 0.2 & setosa & 1.4, 0.2 & 1\\\\\n",
       "\t 4.7 & 3.2 & 1.3 & 0.2 & setosa & 1.3, 0.2 & 1\\\\\n",
       "\t 4.6 & 3.1 & 1.5 & 0.2 & setosa & 1.5, 0.2 & 1\\\\\n",
       "\t 5.0 & 3.6 & 1.4 & 0.2 & setosa & 1.4, 0.2 & 1\\\\\n",
       "\t 5.4 & 3.9 & 1.7 & 0.4 & setosa & 1.7, 0.4 & 1\\\\\n",
       "\\end{tabular}\n"
      ],
      "text/markdown": [
       "\n",
       "A tibble: 6 × 7\n",
       "\n",
       "| Sepal_Length &lt;dbl&gt; | Sepal_Width &lt;dbl&gt; | Petal_Length &lt;dbl&gt; | Petal_Width &lt;dbl&gt; | Species &lt;chr&gt; | features &lt;list&gt; | prediction &lt;int&gt; |\n",
       "|---|---|---|---|---|---|---|\n",
       "| 5.1 | 3.5 | 1.4 | 0.2 | setosa | 1.4, 0.2 | 1 |\n",
       "| 4.9 | 3.0 | 1.4 | 0.2 | setosa | 1.4, 0.2 | 1 |\n",
       "| 4.7 | 3.2 | 1.3 | 0.2 | setosa | 1.3, 0.2 | 1 |\n",
       "| 4.6 | 3.1 | 1.5 | 0.2 | setosa | 1.5, 0.2 | 1 |\n",
       "| 5.0 | 3.6 | 1.4 | 0.2 | setosa | 1.4, 0.2 | 1 |\n",
       "| 5.4 | 3.9 | 1.7 | 0.4 | setosa | 1.7, 0.4 | 1 |\n",
       "\n"
      ],
      "text/plain": [
       "  Sepal_Length Sepal_Width Petal_Length Petal_Width Species features prediction\n",
       "1 5.1          3.5         1.4          0.2         setosa  1.4, 0.2 1         \n",
       "2 4.9          3.0         1.4          0.2         setosa  1.4, 0.2 1         \n",
       "3 4.7          3.2         1.3          0.2         setosa  1.3, 0.2 1         \n",
       "4 4.6          3.1         1.5          0.2         setosa  1.5, 0.2 1         \n",
       "5 5.0          3.6         1.4          0.2         setosa  1.4, 0.2 1         \n",
       "6 5.4          3.9         1.7          0.4         setosa  1.7, 0.4 1         "
      ]
     },
     "metadata": {},
     "output_type": "display_data"
    }
   ],
   "source": [
    "## here the collect function bring data from cluster to master or local node\n",
    "prediction = collect(ml_predict(fit2, iris_spark))\n",
    "head(prediction)"
   ]
  },
  {
   "cell_type": "code",
   "execution_count": 35,
   "id": "85bcf3c2-2406-4c47-a275-42abe85be734",
   "metadata": {},
   "outputs": [],
   "source": [
    "spark_disconnect(sc)\n",
    "# or spark_disconnect_all()"
   ]
  }
 ],
 "metadata": {
  "kernelspec": {
   "display_name": "R",
   "language": "R",
   "name": "ir"
  },
  "language_info": {
   "codemirror_mode": "r",
   "file_extension": ".r",
   "mimetype": "text/x-r-source",
   "name": "R",
   "pygments_lexer": "r",
   "version": "4.1.2"
  }
 },
 "nbformat": 4,
 "nbformat_minor": 5
}
